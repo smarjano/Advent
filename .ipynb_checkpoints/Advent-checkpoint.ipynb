{
 "cells": [
  {
   "cell_type": "code",
   "execution_count": null,
   "id": "1b4a3b38",
   "metadata": {},
   "outputs": [],
   "source": [
    "import numpy as np"
   ]
  },
  {
   "cell_type": "markdown",
   "id": "a4aff22f",
   "metadata": {},
   "source": [
    "## Day 1"
   ]
  },
  {
   "cell_type": "code",
   "execution_count": 25,
   "id": "35a2e953",
   "metadata": {},
   "outputs": [
    {
     "name": "stdout",
     "output_type": "stream",
     "text": [
      "68442\n",
      "204837\n"
     ]
    }
   ],
   "source": [
    "sums = [0]\n",
    "i = 0\n",
    "\n",
    "with open(\"data/data_0112.txt\") as f:\n",
    "    for line in f.readlines():\n",
    "        if len(line.strip()) > 0:\n",
    "            sums[i] += int(line.strip())\n",
    "        elif line == \"\\n\":\n",
    "            i += 1\n",
    "            sums.append(0)\n",
    "        else:\n",
    "            print(f\"Error: {line}\")\n",
    "            \n",
    "print(max(sums))\n",
    "print(sum(sorted(sums)[-3:]))"
   ]
  },
  {
   "cell_type": "markdown",
   "id": "59838c9b",
   "metadata": {},
   "source": [
    "## Day 2"
   ]
  },
  {
   "cell_type": "code",
   "execution_count": 26,
   "id": "b67d4b9d",
   "metadata": {},
   "outputs": [
    {
     "name": "stdout",
     "output_type": "stream",
     "text": [
      "11386\n"
     ]
    }
   ],
   "source": [
    "### Part One\n",
    "\n",
    "score = 0\n",
    "\n",
    "with open(\"data/data_0212.txt\") as f:\n",
    "    for line in f.readlines():\n",
    "        if line[0] == 'A':\n",
    "            if line[2] == 'X':\n",
    "                score += 1 # rock\n",
    "                score += 3 # tie\n",
    "            elif line[2] == 'Y':\n",
    "                score += 2\n",
    "                score += 6 #win\n",
    "            elif line[2] == 'Z':\n",
    "                score += 3\n",
    "                score += 0 #loss\n",
    "            else:\n",
    "                print(f'Error: {line}')\n",
    "        elif line[0] == 'B':\n",
    "            if line[2] == 'X':\n",
    "                score += 1 # rock\n",
    "                score += 0 # tie\n",
    "            elif line[2] == 'Y':\n",
    "                score += 2\n",
    "                score += 3 #win\n",
    "            elif line[2] == 'Z':\n",
    "                score += 3\n",
    "                score += 6 #loss\n",
    "            else:\n",
    "                print(f'Error: {line}')\n",
    "        elif line[0] == 'C':\n",
    "            if line[2] == 'X':\n",
    "                score += 1 # rock\n",
    "                score += 6 # win\n",
    "            elif line[2] == 'Y':\n",
    "                score += 2\n",
    "                score += 0 #win\n",
    "            elif line[2] == 'Z':\n",
    "                score += 3\n",
    "                score += 3 #loss\n",
    "            else:\n",
    "                print(f'Error: {line}')\n",
    "        else:\n",
    "            print(f\"Error: {line}\")\n",
    "print(score)"
   ]
  },
  {
   "cell_type": "code",
   "execution_count": 27,
   "id": "c1a892bb",
   "metadata": {},
   "outputs": [
    {
     "name": "stdout",
     "output_type": "stream",
     "text": [
      "13600\n"
     ]
    }
   ],
   "source": [
    "## Part Two\n",
    "score = 0\n",
    "\n",
    "with open(\"data/data_0212.txt\") as f:\n",
    "    for line in f.readlines():\n",
    "        if line[0] == 'A':\n",
    "            if line[2] == 'X': #lose\n",
    "                score += 3 # play\n",
    "                score += 0 # ranking\n",
    "            elif line[2] == 'Y': #draw\n",
    "                score += 1\n",
    "                score += 3 # ranking\n",
    "            elif line[2] == 'Z': # win\n",
    "                score += 2\n",
    "                score += 6 # ranking\n",
    "            else:\n",
    "                print(f'Error: {line}')\n",
    "        elif line[0] == 'B': \n",
    "            if line[2] == 'X': #lose\n",
    "                score += 1 # play\n",
    "                score += 0 # ranking\n",
    "            elif line[2] == 'Y': #draw\n",
    "                score += 2\n",
    "                score += 3 # ranking\n",
    "            elif line[2] == 'Z': # win\n",
    "                score += 3\n",
    "                score += 6 # ranking\n",
    "            else:\n",
    "                print(f'Error: {line}')\n",
    "        elif line[0] == 'C':\n",
    "            if line[2] == 'X': #lose\n",
    "                score += 2 # play\n",
    "                score += 0 # ranking\n",
    "            elif line[2] == 'Y': #draw\n",
    "                score += 3\n",
    "                score += 3 # ranking\n",
    "            elif line[2] == 'Z': # win\n",
    "                score += 1\n",
    "                score += 6 # ranking\n",
    "            else:\n",
    "                print(f'Error: {line}')\n",
    "        else:\n",
    "            print(f\"Error: {line}\")\n",
    "print(score)"
   ]
  },
  {
   "cell_type": "markdown",
   "id": "dc7afa0f",
   "metadata": {},
   "source": [
    "## Day 3"
   ]
  },
  {
   "cell_type": "code",
   "execution_count": 28,
   "id": "754bbf41",
   "metadata": {},
   "outputs": [
    {
     "name": "stdout",
     "output_type": "stream",
     "text": [
      "7863\n"
     ]
    }
   ],
   "source": [
    "### Part One\n",
    "values = []\n",
    "\n",
    "with open(\"data/data_0312.txt\") as f:\n",
    "    for line in f.readlines():\n",
    "        line = line.strip()\n",
    "        first = line[:int(len(line)/2)]\n",
    "        second = line[int(len(line)/2):]\n",
    "        for char in set(first):\n",
    "            if char in set(second):\n",
    "                break\n",
    "        \n",
    "        if char.isupper():\n",
    "            values.append(-(38 - ord(char))) # converts to priority value\n",
    "        else:\n",
    "            values.append(ord(char) - 96)\n",
    "print(sum(values))"
   ]
  },
  {
   "cell_type": "code",
   "execution_count": 29,
   "id": "889ec045",
   "metadata": {},
   "outputs": [
    {
     "name": "stdout",
     "output_type": "stream",
     "text": [
      "2488\n"
     ]
    }
   ],
   "source": [
    "### Part Two\n",
    "\n",
    "with open(\"data/data_0312.txt\") as f:\n",
    "    txt = f.readlines()\n",
    "\n",
    "values = [0]\n",
    "i = 0\n",
    "\n",
    "while i < len(txt):\n",
    "    raw = txt[i:i+3]\n",
    "    lines = [set(line.strip()) for line in raw]\n",
    "    char = list(lines[0].intersection(lines[1], lines[2]))[0]\n",
    "    if char.isupper():\n",
    "        values.append(-(38 - ord(char)))\n",
    "    else:\n",
    "        values.append(ord(char) - 96)\n",
    "    i += 3    \n",
    "print(sum(values))"
   ]
  },
  {
   "cell_type": "markdown",
   "id": "1a515e62",
   "metadata": {},
   "source": [
    "## Day Four"
   ]
  },
  {
   "cell_type": "code",
   "execution_count": 30,
   "id": "2329718c",
   "metadata": {},
   "outputs": [
    {
     "name": "stdout",
     "output_type": "stream",
     "text": [
      "507\n"
     ]
    }
   ],
   "source": [
    "### Part One\n",
    "\n",
    "count = 0\n",
    "with open(\"data/data_0412.txt\") as f:\n",
    "    for line in f.readlines():\n",
    "        elf1,elf2 = line.split(',')\n",
    "        \n",
    "        min1,max1 = elf1.split('-')\n",
    "        min2,max2 = elf2.split('-')\n",
    "        \n",
    "        #print(min1,max1,min2,max2)\n",
    "        \n",
    "        if (int(min1) <= int(min2)) & (int(max1) >= int(max2)):\n",
    "            count += 1\n",
    "        elif (int(min2) <= int(min1)) & (int(max2) >= int(max1)):\n",
    "            count += 1\n",
    "print(count)"
   ]
  },
  {
   "cell_type": "code",
   "execution_count": 31,
   "id": "6dbe4ef2",
   "metadata": {},
   "outputs": [
    {
     "name": "stdout",
     "output_type": "stream",
     "text": [
      "897\n"
     ]
    }
   ],
   "source": [
    "### Part Two\n",
    "\n",
    "count = 0\n",
    "with open(\"data/data_0412.txt\") as f:\n",
    "    for line in f.readlines():\n",
    "        elf1,elf2 = line.split(',')\n",
    "        \n",
    "        min1,max1 = elf1.split('-')\n",
    "        min2,max2 = elf2.split('-')\n",
    "        \n",
    "        if len(set(np.arange(int(min1),int(max1)+1)).intersection(np.arange(int(min2),int(max2)+1))) > 0:\n",
    "            count += 1\n",
    "            #print(line)\n",
    "\n",
    "print(count)"
   ]
  },
  {
   "cell_type": "markdown",
   "id": "7d094afb",
   "metadata": {},
   "source": [
    "## Day Five"
   ]
  },
  {
   "cell_type": "code",
   "execution_count": 76,
   "id": "4e21d110",
   "metadata": {},
   "outputs": [
    {
     "name": "stdout",
     "output_type": "stream",
     "text": [
      "CWMTGHBDW\n"
     ]
    }
   ],
   "source": [
    "## PART ONE\n",
    "\n",
    "with open(\"data/data_0512.txt\") as f:\n",
    "    txt = f.readlines()\n",
    "\n",
    "boxes = {}\n",
    "\n",
    "for char in txt[8]:\n",
    "    if (char != ' ') and (char != '\\n'):\n",
    "        boxes[char] = []\n",
    "for line in txt[:8]:\n",
    "    argbox = 1\n",
    "    for i in range(1,len(line),4):\n",
    "        if line[i] != ' ':\n",
    "            boxes[str(argbox)].append(line[i])\n",
    "        argbox += 1\n",
    "\n",
    "# Now reverse so we can pop\n",
    "for key in boxes.keys():\n",
    "    boxes[key].reverse()\n",
    "    \n",
    "for line in txt[10:]:\n",
    "    amt, start, end = line.split()[1::2]\n",
    "    amt = int(amt)\n",
    "    for i in range(amt):\n",
    "        temp = boxes[start].pop()\n",
    "        boxes[end].append(temp)\n",
    "\n",
    "print(''.join([boxes[key][-1] for key in boxes.keys()]))"
   ]
  },
  {
   "cell_type": "code",
   "execution_count": 86,
   "id": "717b381c",
   "metadata": {},
   "outputs": [
    {
     "name": "stdout",
     "output_type": "stream",
     "text": [
      "SSCGWJCRB\n"
     ]
    }
   ],
   "source": [
    "## PART TWO\n",
    "\n",
    "with open(\"data/data_0512.txt\") as f:\n",
    "    txt = f.readlines()\n",
    "\n",
    "boxes = {}\n",
    "\n",
    "for char in txt[8]:\n",
    "    if (char != ' ') and (char != '\\n'):\n",
    "        boxes[char] = []\n",
    "for line in txt[:8]:\n",
    "    argbox = 1\n",
    "    for i in range(1,len(line),4):\n",
    "        if line[i] != ' ':\n",
    "            boxes[str(argbox)].append(line[i])\n",
    "        argbox += 1\n",
    "\n",
    "# Now reverse so we can pop\n",
    "for key in boxes.keys():\n",
    "    boxes[key].reverse()\n",
    "    \n",
    "for line in txt[10:]:\n",
    "    amt, start, end = line.split()[1::2]\n",
    "    amt = int(amt)\n",
    "    if amt <= len(boxes[start]):\n",
    "        temp = boxes[start][-amt:]\n",
    "        boxes[start] = boxes[start][:-amt]\n",
    "        boxes[end] += temp\n",
    "    else:\n",
    "        print(f\"Error: {line}\")\n",
    "        temp = boxes[start][-len(boxes[start]):]\n",
    "        boxes[start] = boxes[start][:-len(boxes[start])]\n",
    "        boxes[end] += temp\n",
    "\n",
    "print(''.join([boxes[key][-1] for key in boxes.keys()]))"
   ]
  },
  {
   "cell_type": "markdown",
   "id": "72ace1c9",
   "metadata": {},
   "source": [
    "## Day Six"
   ]
  },
  {
   "cell_type": "code",
   "execution_count": 103,
   "id": "c9269665",
   "metadata": {},
   "outputs": [
    {
     "name": "stdout",
     "output_type": "stream",
     "text": [
      "trjcwsmpgflhdq\n",
      "3153\n"
     ]
    }
   ],
   "source": [
    "with open(\"data/data_0612.txt\") as f:\n",
    "    txt = f.read()\n",
    "\n",
    "marker_len = 14\n",
    "i = marker_len\n",
    "while i < len(txt):\n",
    "    if len(txt[i - marker_len:i]) == len(set(txt[i - marker_len:i])):\n",
    "        print(txt[i - marker_len:i])\n",
    "        break\n",
    "    else:\n",
    "        i += 1\n",
    "print(i)"
   ]
  },
  {
   "cell_type": "markdown",
   "id": "05151e31",
   "metadata": {},
   "source": [
    "## Day Seven"
   ]
  },
  {
   "cell_type": "code",
   "execution_count": 63,
   "id": "4cc47f8e",
   "metadata": {},
   "outputs": [
    {
     "name": "stdout",
     "output_type": "stream",
     "text": [
      "1648397\n",
      "1815525\n"
     ]
    }
   ],
   "source": [
    "dirs = {\n",
    "        'home' : {} #list of what dirs are contained in what\n",
    "        } \n",
    "\n",
    "path = ['home'] #keeps track of where we are\n",
    "\n",
    "with open(\"data/data_0712.txt\") as f:\n",
    "    for line in f.readlines():\n",
    "        parsed = line.split()\n",
    "        if parsed[0] == '$': #is a command\n",
    "            if parsed[1] == 'cd': # need to change path\n",
    "                if parsed[2] == '/':\n",
    "                    path = [dirs['home']] # reset to start\n",
    "                elif parsed[2] == '..': # move back one\n",
    "                    path.pop()\n",
    "                else:\n",
    "                    path.append(path[-1][parsed[2]]) #add new value to path\n",
    "                    if parsed[2] not in dir_vals.keys(): #if we have not see this directory before, let us add it to our dics\n",
    "                        dir_vals[parsed[2]] = 0\n",
    "                        dirs[parsed[2]] = []\n",
    "        else:\n",
    "            path[-1][parsed[1]] = {} if parsed[0] == 'dir' else int(parsed[0]) #save file sizes as int, otherwise save dir name\n",
    "            \n",
    "# now recursively fill sizes\n",
    "\n",
    "filesize = {}\n",
    "\n",
    "\n",
    "def recursive_filesize(base_directory, dir_name):\n",
    "    tot = 0\n",
    "    for d,subdir in base_directory.items():\n",
    "        if type(subdir) == dict:\n",
    "            key = dir_name + '/' + d if dir_name else 'home'\n",
    "            filesize[key] = recursive_filesize(subdir, key)\n",
    "            tot += filesize[key]\n",
    "        else:\n",
    "            tot += subdir\n",
    "    return tot\n",
    "\n",
    "recursive_filesize(dirs, '')\n",
    "\n",
    "        \n",
    "# find sizes under 100000\n",
    "print(sum(fs for fs in filesize.values() if fs <= 100000))\n",
    "\n",
    "# part 2\n",
    "need = -(70000000 - 30000000 - filesize['home']) #total amount - size needed - current size\n",
    "\n",
    "candidates = {}\n",
    "for d in filesize.keys():\n",
    "    if filesize[d] > need:\n",
    "        candidates[d] = filesize[d]\n",
    "        \n",
    "print(sorted(candidates.items(), key=lambda item: item[1])[0][1])"
   ]
  },
  {
   "cell_type": "code",
   "execution_count": null,
   "id": "31eaf8a4",
   "metadata": {},
   "outputs": [],
   "source": []
  }
 ],
 "metadata": {
  "kernelspec": {
   "display_name": "Python 3 (ipykernel)",
   "language": "python",
   "name": "python3"
  },
  "language_info": {
   "codemirror_mode": {
    "name": "ipython",
    "version": 3
   },
   "file_extension": ".py",
   "mimetype": "text/x-python",
   "name": "python",
   "nbconvert_exporter": "python",
   "pygments_lexer": "ipython3",
   "version": "3.9.12"
  }
 },
 "nbformat": 4,
 "nbformat_minor": 5
}
