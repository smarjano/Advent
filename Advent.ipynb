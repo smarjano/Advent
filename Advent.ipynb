{
 "cells": [
  {
   "cell_type": "code",
   "execution_count": 439,
   "id": "1b4a3b38",
   "metadata": {},
   "outputs": [],
   "source": [
    "import numpy as np\n",
    "import math\n",
    "import sys\n",
    "import heapq\n",
    "import ast"
   ]
  },
  {
   "cell_type": "markdown",
   "id": "a4aff22f",
   "metadata": {},
   "source": [
    "## Day 1"
   ]
  },
  {
   "cell_type": "code",
   "execution_count": 25,
   "id": "35a2e953",
   "metadata": {},
   "outputs": [
    {
     "name": "stdout",
     "output_type": "stream",
     "text": [
      "68442\n",
      "204837\n"
     ]
    }
   ],
   "source": [
    "sums = [0]\n",
    "i = 0\n",
    "\n",
    "with open(\"data/data_0112.txt\") as f:\n",
    "    for line in f.readlines():\n",
    "        if len(line.strip()) > 0:\n",
    "            sums[i] += int(line.strip())\n",
    "        elif line == \"\\n\":\n",
    "            i += 1\n",
    "            sums.append(0)\n",
    "        else:\n",
    "            print(f\"Error: {line}\")\n",
    "            \n",
    "print(max(sums))\n",
    "print(sum(sorted(sums)[-3:]))"
   ]
  },
  {
   "cell_type": "markdown",
   "id": "59838c9b",
   "metadata": {},
   "source": [
    "## Day 2"
   ]
  },
  {
   "cell_type": "code",
   "execution_count": 26,
   "id": "b67d4b9d",
   "metadata": {},
   "outputs": [
    {
     "name": "stdout",
     "output_type": "stream",
     "text": [
      "11386\n"
     ]
    }
   ],
   "source": [
    "### Part One\n",
    "\n",
    "score = 0\n",
    "\n",
    "with open(\"data/data_0212.txt\") as f:\n",
    "    for line in f.readlines():\n",
    "        if line[0] == 'A':\n",
    "            if line[2] == 'X':\n",
    "                score += 1 # rock\n",
    "                score += 3 # tie\n",
    "            elif line[2] == 'Y':\n",
    "                score += 2\n",
    "                score += 6 #win\n",
    "            elif line[2] == 'Z':\n",
    "                score += 3\n",
    "                score += 0 #loss\n",
    "            else:\n",
    "                print(f'Error: {line}')\n",
    "        elif line[0] == 'B':\n",
    "            if line[2] == 'X':\n",
    "                score += 1 # rock\n",
    "                score += 0 # tie\n",
    "            elif line[2] == 'Y':\n",
    "                score += 2\n",
    "                score += 3 #win\n",
    "            elif line[2] == 'Z':\n",
    "                score += 3\n",
    "                score += 6 #loss\n",
    "            else:\n",
    "                print(f'Error: {line}')\n",
    "        elif line[0] == 'C':\n",
    "            if line[2] == 'X':\n",
    "                score += 1 # rock\n",
    "                score += 6 # win\n",
    "            elif line[2] == 'Y':\n",
    "                score += 2\n",
    "                score += 0 #win\n",
    "            elif line[2] == 'Z':\n",
    "                score += 3\n",
    "                score += 3 #loss\n",
    "            else:\n",
    "                print(f'Error: {line}')\n",
    "        else:\n",
    "            print(f\"Error: {line}\")\n",
    "print(score)"
   ]
  },
  {
   "cell_type": "code",
   "execution_count": 27,
   "id": "c1a892bb",
   "metadata": {},
   "outputs": [
    {
     "name": "stdout",
     "output_type": "stream",
     "text": [
      "13600\n"
     ]
    }
   ],
   "source": [
    "## Part Two\n",
    "score = 0\n",
    "\n",
    "with open(\"data/data_0212.txt\") as f:\n",
    "    for line in f.readlines():\n",
    "        if line[0] == 'A':\n",
    "            if line[2] == 'X': #lose\n",
    "                score += 3 # play\n",
    "                score += 0 # ranking\n",
    "            elif line[2] == 'Y': #draw\n",
    "                score += 1\n",
    "                score += 3 # ranking\n",
    "            elif line[2] == 'Z': # win\n",
    "                score += 2\n",
    "                score += 6 # ranking\n",
    "            else:\n",
    "                print(f'Error: {line}')\n",
    "        elif line[0] == 'B': \n",
    "            if line[2] == 'X': #lose\n",
    "                score += 1 # play\n",
    "                score += 0 # ranking\n",
    "            elif line[2] == 'Y': #draw\n",
    "                score += 2\n",
    "                score += 3 # ranking\n",
    "            elif line[2] == 'Z': # win\n",
    "                score += 3\n",
    "                score += 6 # ranking\n",
    "            else:\n",
    "                print(f'Error: {line}')\n",
    "        elif line[0] == 'C':\n",
    "            if line[2] == 'X': #lose\n",
    "                score += 2 # play\n",
    "                score += 0 # ranking\n",
    "            elif line[2] == 'Y': #draw\n",
    "                score += 3\n",
    "                score += 3 # ranking\n",
    "            elif line[2] == 'Z': # win\n",
    "                score += 1\n",
    "                score += 6 # ranking\n",
    "            else:\n",
    "                print(f'Error: {line}')\n",
    "        else:\n",
    "            print(f\"Error: {line}\")\n",
    "print(score)"
   ]
  },
  {
   "cell_type": "markdown",
   "id": "dc7afa0f",
   "metadata": {},
   "source": [
    "## Day 3"
   ]
  },
  {
   "cell_type": "code",
   "execution_count": 28,
   "id": "754bbf41",
   "metadata": {},
   "outputs": [
    {
     "name": "stdout",
     "output_type": "stream",
     "text": [
      "7863\n"
     ]
    }
   ],
   "source": [
    "### Part One\n",
    "values = []\n",
    "\n",
    "with open(\"data/data_0312.txt\") as f:\n",
    "    for line in f.readlines():\n",
    "        line = line.strip()\n",
    "        first = line[:int(len(line)/2)]\n",
    "        second = line[int(len(line)/2):]\n",
    "        for char in set(first):\n",
    "            if char in set(second):\n",
    "                break\n",
    "        \n",
    "        if char.isupper():\n",
    "            values.append(-(38 - ord(char))) # converts to priority value\n",
    "        else:\n",
    "            values.append(ord(char) - 96)\n",
    "print(sum(values))"
   ]
  },
  {
   "cell_type": "code",
   "execution_count": 29,
   "id": "889ec045",
   "metadata": {},
   "outputs": [
    {
     "name": "stdout",
     "output_type": "stream",
     "text": [
      "2488\n"
     ]
    }
   ],
   "source": [
    "### Part Two\n",
    "\n",
    "with open(\"data/data_0312.txt\") as f:\n",
    "    txt = f.readlines()\n",
    "\n",
    "values = [0]\n",
    "i = 0\n",
    "\n",
    "while i < len(txt):\n",
    "    raw = txt[i:i+3]\n",
    "    lines = [set(line.strip()) for line in raw]\n",
    "    char = list(lines[0].intersection(lines[1], lines[2]))[0]\n",
    "    if char.isupper():\n",
    "        values.append(-(38 - ord(char)))\n",
    "    else:\n",
    "        values.append(ord(char) - 96)\n",
    "    i += 3    \n",
    "print(sum(values))"
   ]
  },
  {
   "cell_type": "markdown",
   "id": "1a515e62",
   "metadata": {},
   "source": [
    "## Day 4"
   ]
  },
  {
   "cell_type": "code",
   "execution_count": 30,
   "id": "2329718c",
   "metadata": {},
   "outputs": [
    {
     "name": "stdout",
     "output_type": "stream",
     "text": [
      "507\n"
     ]
    }
   ],
   "source": [
    "### Part One\n",
    "\n",
    "count = 0\n",
    "with open(\"data/data_0412.txt\") as f:\n",
    "    for line in f.readlines():\n",
    "        elf1,elf2 = line.split(',')\n",
    "        \n",
    "        min1,max1 = elf1.split('-')\n",
    "        min2,max2 = elf2.split('-')\n",
    "        \n",
    "        #print(min1,max1,min2,max2)\n",
    "        \n",
    "        if (int(min1) <= int(min2)) & (int(max1) >= int(max2)):\n",
    "            count += 1\n",
    "        elif (int(min2) <= int(min1)) & (int(max2) >= int(max1)):\n",
    "            count += 1\n",
    "print(count)"
   ]
  },
  {
   "cell_type": "code",
   "execution_count": 31,
   "id": "6dbe4ef2",
   "metadata": {},
   "outputs": [
    {
     "name": "stdout",
     "output_type": "stream",
     "text": [
      "897\n"
     ]
    }
   ],
   "source": [
    "### Part Two\n",
    "\n",
    "count = 0\n",
    "with open(\"data/data_0412.txt\") as f:\n",
    "    for line in f.readlines():\n",
    "        elf1,elf2 = line.split(',')\n",
    "        \n",
    "        min1,max1 = elf1.split('-')\n",
    "        min2,max2 = elf2.split('-')\n",
    "        \n",
    "        if len(set(np.arange(int(min1),int(max1)+1)).intersection(np.arange(int(min2),int(max2)+1))) > 0:\n",
    "            count += 1\n",
    "            #print(line)\n",
    "\n",
    "print(count)"
   ]
  },
  {
   "cell_type": "markdown",
   "id": "7d094afb",
   "metadata": {},
   "source": [
    "## Day 5"
   ]
  },
  {
   "cell_type": "code",
   "execution_count": 76,
   "id": "4e21d110",
   "metadata": {},
   "outputs": [
    {
     "name": "stdout",
     "output_type": "stream",
     "text": [
      "CWMTGHBDW\n"
     ]
    }
   ],
   "source": [
    "## PART ONE\n",
    "\n",
    "with open(\"data/data_0512.txt\") as f:\n",
    "    txt = f.readlines()\n",
    "\n",
    "boxes = {}\n",
    "\n",
    "for char in txt[8]:\n",
    "    if (char != ' ') and (char != '\\n'):\n",
    "        boxes[char] = []\n",
    "for line in txt[:8]:\n",
    "    argbox = 1\n",
    "    for i in range(1,len(line),4):\n",
    "        if line[i] != ' ':\n",
    "            boxes[str(argbox)].append(line[i])\n",
    "        argbox += 1\n",
    "\n",
    "# Now reverse so we can pop\n",
    "for key in boxes.keys():\n",
    "    boxes[key].reverse()\n",
    "    \n",
    "for line in txt[10:]:\n",
    "    amt, start, end = line.split()[1::2]\n",
    "    amt = int(amt)\n",
    "    for i in range(amt):\n",
    "        temp = boxes[start].pop()\n",
    "        boxes[end].append(temp)\n",
    "\n",
    "print(''.join([boxes[key][-1] for key in boxes.keys()]))"
   ]
  },
  {
   "cell_type": "code",
   "execution_count": 86,
   "id": "717b381c",
   "metadata": {},
   "outputs": [
    {
     "name": "stdout",
     "output_type": "stream",
     "text": [
      "SSCGWJCRB\n"
     ]
    }
   ],
   "source": [
    "## PART TWO\n",
    "\n",
    "with open(\"data/data_0512.txt\") as f:\n",
    "    txt = f.readlines()\n",
    "\n",
    "boxes = {}\n",
    "\n",
    "for char in txt[8]:\n",
    "    if (char != ' ') and (char != '\\n'):\n",
    "        boxes[char] = []\n",
    "for line in txt[:8]:\n",
    "    argbox = 1\n",
    "    for i in range(1,len(line),4):\n",
    "        if line[i] != ' ':\n",
    "            boxes[str(argbox)].append(line[i])\n",
    "        argbox += 1\n",
    "\n",
    "# Now reverse so we can pop\n",
    "for key in boxes.keys():\n",
    "    boxes[key].reverse()\n",
    "    \n",
    "for line in txt[10:]:\n",
    "    amt, start, end = line.split()[1::2]\n",
    "    amt = int(amt)\n",
    "    if amt <= len(boxes[start]):\n",
    "        temp = boxes[start][-amt:]\n",
    "        boxes[start] = boxes[start][:-amt]\n",
    "        boxes[end] += temp\n",
    "    else:\n",
    "        print(f\"Error: {line}\")\n",
    "        temp = boxes[start][-len(boxes[start]):]\n",
    "        boxes[start] = boxes[start][:-len(boxes[start])]\n",
    "        boxes[end] += temp\n",
    "\n",
    "print(''.join([boxes[key][-1] for key in boxes.keys()]))"
   ]
  },
  {
   "cell_type": "markdown",
   "id": "72ace1c9",
   "metadata": {},
   "source": [
    "## Day 6"
   ]
  },
  {
   "cell_type": "code",
   "execution_count": 103,
   "id": "c9269665",
   "metadata": {},
   "outputs": [
    {
     "name": "stdout",
     "output_type": "stream",
     "text": [
      "trjcwsmpgflhdq\n",
      "3153\n"
     ]
    }
   ],
   "source": [
    "with open(\"data/data_0612.txt\") as f:\n",
    "    txt = f.read()\n",
    "\n",
    "marker_len = 14\n",
    "i = marker_len\n",
    "while i < len(txt):\n",
    "    if len(txt[i - marker_len:i]) == len(set(txt[i - marker_len:i])):\n",
    "        print(txt[i - marker_len:i])\n",
    "        break\n",
    "    else:\n",
    "        i += 1\n",
    "print(i)"
   ]
  },
  {
   "cell_type": "markdown",
   "id": "05151e31",
   "metadata": {},
   "source": [
    "## Day 7"
   ]
  },
  {
   "cell_type": "code",
   "execution_count": 64,
   "id": "4cc47f8e",
   "metadata": {},
   "outputs": [
    {
     "name": "stdout",
     "output_type": "stream",
     "text": [
      "1648397\n",
      "1815525\n"
     ]
    }
   ],
   "source": [
    "dirs = {\n",
    "        'home' : {} #list of what dirs are contained in what\n",
    "        } \n",
    "\n",
    "path = ['home'] #keeps track of where we are\n",
    "\n",
    "with open(\"data/data_0712.txt\") as f:\n",
    "    for line in f.readlines():\n",
    "        parsed = line.split()\n",
    "        if parsed[0] == '$': #is a command\n",
    "            if parsed[1] == 'cd': # need to change path\n",
    "                if parsed[2] == '/':\n",
    "                    path = [dirs['home']] # reset to start\n",
    "                elif parsed[2] == '..': # move back one\n",
    "                    path.pop()\n",
    "                else:\n",
    "                    path.append(path[-1][parsed[2]]) #add new value to path\n",
    "                    if parsed[2] not in dir_vals.keys(): #if we have not see this directory before, let us add it to our dics\n",
    "                        dirs[parsed[2]] = []\n",
    "        else:\n",
    "            path[-1][parsed[1]] = {} if parsed[0] == 'dir' else int(parsed[0]) #save file sizes as int, otherwise save dir name\n",
    "            \n",
    "# now recursively fill sizes\n",
    "\n",
    "filesize = {}\n",
    "\n",
    "\n",
    "def recursive_filesize(base_directory, dir_name):\n",
    "    tot = 0\n",
    "    for d,subdir in base_directory.items():\n",
    "        if type(subdir) == dict:\n",
    "            key = dir_name + '/' + d if dir_name else 'home'\n",
    "            filesize[key] = recursive_filesize(subdir, key)\n",
    "            tot += filesize[key]\n",
    "        else:\n",
    "            tot += subdir\n",
    "    return tot\n",
    "\n",
    "recursive_filesize(dirs, '')\n",
    "\n",
    "        \n",
    "# find sizes under 100000\n",
    "print(sum(fs for fs in filesize.values() if fs <= 100000))\n",
    "\n",
    "# part 2\n",
    "need = -(70000000 - 30000000 - filesize['home']) #total amount - size needed - current size\n",
    "\n",
    "candidates = {}\n",
    "for d in filesize.keys():\n",
    "    if filesize[d] > need:\n",
    "        candidates[d] = filesize[d]\n",
    "        \n",
    "print(sorted(candidates.items(), key=lambda item: item[1])[0][1])"
   ]
  },
  {
   "cell_type": "markdown",
   "id": "198335c6",
   "metadata": {},
   "source": [
    "## Day 8"
   ]
  },
  {
   "cell_type": "code",
   "execution_count": 92,
   "id": "bd0333ca",
   "metadata": {},
   "outputs": [
    {
     "name": "stdout",
     "output_type": "stream",
     "text": [
      "1818\n",
      "368368\n"
     ]
    }
   ],
   "source": [
    "grid = []\n",
    "with open(\"data/data_0812.txt\") as f:\n",
    "    for line in f.readlines():\n",
    "        row = []\n",
    "        for char in line:\n",
    "            if char != '\\n':\n",
    "                row.append(int(char))\n",
    "        grid.append(row)\n",
    "        \n",
    "grid = np.array(grid)\n",
    "visible = np.zeros(grid.shape)\n",
    "\n",
    "# edges are immediately visible\n",
    "visible[0,:] = 1\n",
    "visible[-1,:] = 1\n",
    "visible[:,0] = 1\n",
    "visible[:,-1] = 1\n",
    "\n",
    "maxi = 0 # max Scenic Score\n",
    "\n",
    "for i in range(1,grid.shape[0]-1): #iterate through inner portions of grid\n",
    "    for j in range(1,grid.shape[0]-1):\n",
    "        if grid[i,j] > grid[:i,j].max():\n",
    "            visible[i,j] = 1\n",
    "            up = i # all trees to the left are visible or there are no trees to the left\n",
    "        else:\n",
    "            up = np.flip(np.where(grid[:i,j] >= grid[i,j],1,0)).argmax() + 1 #the distance from up +1 (starts at 0)\n",
    "        if grid[i,j] > grid[i+1:,j].max():\n",
    "            visible[i,j] = 1\n",
    "            down = grid.shape[0] - i - 1 # all trees are visible\n",
    "        else:\n",
    "            down = np.where(grid[i+1:,j] >= grid[i,j],1,0).argmax() + 1 #the distance from down to max + 1\n",
    "            \n",
    "        if grid[i,j] > grid[i,:j].max():\n",
    "            visible[i,j] = 1\n",
    "            left = j # all trees to the left are visible or there are no trees to the left\n",
    "        else:\n",
    "            left = np.flip(np.where(grid[i,:j] >= grid[i,j],1,0)).argmax()+1\n",
    "            \n",
    "        if grid[i,j] > grid[i,j+1:].max():\n",
    "            visible[i,j] = 1\n",
    "            right = grid.shape[1] - j -1 # all trees to the right are visible\n",
    "        else:\n",
    "            right = np.where(grid[i,j+1:] >= grid[i,j],1,0).argmax()+1 #the distance from the right to max + 1\n",
    "            \n",
    "        ss = up * down * left * right\n",
    "        #print(ss)\n",
    "        #print()\n",
    "        if ss > maxi:\n",
    "            maxi = ss\n",
    "            \n",
    "print(int(visible.sum()))\n",
    "print(maxi)"
   ]
  },
  {
   "cell_type": "markdown",
   "id": "b3ea3e0d",
   "metadata": {},
   "source": [
    "## Day 9"
   ]
  },
  {
   "cell_type": "code",
   "execution_count": 124,
   "id": "d941fabd",
   "metadata": {},
   "outputs": [
    {
     "name": "stdout",
     "output_type": "stream",
     "text": [
      "5907\n"
     ]
    }
   ],
   "source": [
    "h = [0,0]\n",
    "t = [0,0]\n",
    "\n",
    "def move_h_in_dir(letter,h):\n",
    "    if letter == 'U':\n",
    "        h[1] += 1\n",
    "    elif letter == 'D':\n",
    "        h[1] -= 1\n",
    "    elif letter == 'R':\n",
    "        h[0] += 1\n",
    "    else: #letter is L\n",
    "        h[0] -= 1    \n",
    "    return h\n",
    "\n",
    "def move_t_to_h(t,h):\n",
    "    if abs(t[0] - h[0]) == 0: #within one position horizontal\n",
    "        if abs(t[1] - h[1]) <= 1: #on top or next to vertically\n",
    "            return t # no change\n",
    "        else: # at least 2 position vertical\n",
    "            t[1] += np.sign((h[1] - t[1])) # move vertically in the direction of difference\n",
    "            return t\n",
    "            \n",
    "    elif abs(t[0] - h[0]) == 1: # one position away horizonal\n",
    "        if abs(t[1] - h[1]) <= 1: # diagonal or next to horizontally\n",
    "            return t # no change\n",
    "        else:  # two positions or more away vertically\n",
    "            t[0] += np.sign((h[0] - t[0])) # move diagonally in directions of difference\n",
    "            t[1] += np.sign((h[1] - t[1])) \n",
    "            return t\n",
    "            \n",
    "    else: #greater than 2 positions horizontal\n",
    "        if abs(t[1] - h[1]) == 0: #same line vertically\n",
    "            t[0] += np.sign((h[0] - t[0])) #move horizontally in direction of difference\n",
    "            return t\n",
    "        else: # diagonal difference\n",
    "            t[0] += np.sign((h[0] - t[0])) # move diagonally in directions of difference\n",
    "            t[1] += np.sign((h[1] - t[1]))\n",
    "            return t\n",
    "    \n",
    "\n",
    "been= [tuple(t)]\n",
    "\n",
    "with open(\"data/data_0912.txt\") as f:\n",
    "    for line in f.readlines():\n",
    "        a, d = line.split(' ') #read angle into a, distance into d\n",
    "        for i in range(int(d)):\n",
    "            h = move_h_in_dir(a,h)\n",
    "            t = move_t_to_h(t,h)\n",
    "            been.append(tuple(t))\n",
    "\n",
    "print(len(set(been)))"
   ]
  },
  {
   "cell_type": "code",
   "execution_count": 129,
   "id": "6a779364",
   "metadata": {},
   "outputs": [
    {
     "name": "stdout",
     "output_type": "stream",
     "text": [
      "2303\n"
     ]
    }
   ],
   "source": [
    "## Part Two\n",
    "\n",
    "knots = [[0,0] for i in range(10)]\n",
    "been= [tuple(knots[-1])]\n",
    "\n",
    "with open(\"data/data_0912.txt\") as f:\n",
    "    for line in f.readlines():\n",
    "        a, d = line.split(' ') #read angle into a, distance into d\n",
    "        for i in range(int(d)):\n",
    "            knots[0] = move_h_in_dir(a,knots[0])\n",
    "            for k in range(1,10): # go through all knots\n",
    "                knots[k] = move_t_to_h(knots[k],knots[k-1])\n",
    "            been.append(tuple(knots[-1]))\n",
    "\n",
    "print(len(set(been)))"
   ]
  },
  {
   "cell_type": "markdown",
   "id": "70e9241c",
   "metadata": {},
   "source": [
    "## Day 10"
   ]
  },
  {
   "cell_type": "code",
   "execution_count": 180,
   "id": "e6b00776",
   "metadata": {},
   "outputs": [
    {
     "name": "stdout",
     "output_type": "stream",
     "text": [
      "# # # . . # . . . . # . . # . # . . . . # . . # . # # # . . # # # # . # . . # . \n",
      "# . . # . # . . . . # . . # . # . . . . # . # . . # . . # . . . . # . # . . # . \n",
      "# . . # . # . . . . # . . # . # . . . . # # . . . # # # . . . . # . . # # # # . \n",
      "# # # . . # . . . . # . . # . # . . . . # . # . . # . . # . . # . . . # . . # . \n",
      "# . . . . # . . . . # . . # . # . . . . # . # . . # . . # . # . . . . # . . # . \n",
      "# . . . . # # # # . . # # . . # # # # . # . . # . # # # . . # # # # . # . . # . \n",
      "14240\n"
     ]
    }
   ],
   "source": [
    "COIs = [20, 60, 100, 140, 180, 220]\n",
    "SSs = []\n",
    "c = 0\n",
    "X = 1\n",
    "\n",
    "visible = [[0] * 40]*6\n",
    "\n",
    "def draw_sprite(X,c):\n",
    "    row = c // 40\n",
    "    rowpos = c-(row*40)\n",
    "    if rowpos in [X-1,X,X+1]:\n",
    "        print('#',end=' ')\n",
    "    else:\n",
    "        print('.',end=' ')\n",
    "\n",
    "with open(\"data/data_1012.txt\") as f:\n",
    "    for line in f.readlines():\n",
    "        parsed = line.strip().split()\n",
    "        if parsed[0] == 'addx':\n",
    "            draw_sprite(X,c)\n",
    "            c += 1\n",
    "            # check if meets COIS\n",
    "            if c in COIs:\n",
    "                SSs.append(c*X)\n",
    "            \n",
    "            if c%40 == 0:\n",
    "                print()\n",
    "            \n",
    "            draw_sprite(X,c)\n",
    "            c += 1\n",
    "            X += int(parsed[-1])\n",
    "        else: #noop\n",
    "            draw_sprite(X,c)\n",
    "            c += 1\n",
    "        if c in COIs:\n",
    "            SSs.append(c*X) \n",
    "        if c%40 == 0:\n",
    "            print()\n",
    "        \n",
    "            \n",
    "print(sum(SSs))\n"
   ]
  },
  {
   "cell_type": "markdown",
   "id": "e962670a",
   "metadata": {},
   "source": [
    "## Day 11"
   ]
  },
  {
   "cell_type": "code",
   "execution_count": 371,
   "id": "d6005854",
   "metadata": {},
   "outputs": [
    {
     "name": "stdout",
     "output_type": "stream",
     "text": [
      "316888\n"
     ]
    }
   ],
   "source": [
    "## PART ONE\n",
    "num_rounds = 20 #number of rounds\n",
    "\n",
    "class Monkey():\n",
    "    \n",
    "    def __init__(self, num):\n",
    "        self.id = num\n",
    "        self.inventory = []\n",
    "        self.activitycount = 0\n",
    "            \n",
    "            \n",
    "        self.factor = None\n",
    "        self.truecase = None # who do they pass to\n",
    "        self.falsecase = None # who do they pass to if false\n",
    "        self.operation = None #is it a plus or a multiplication\n",
    "        self.worryfactor = None\n",
    "\n",
    "        \n",
    "    def inspect(self, value):\n",
    "        if self.operation == '*':\n",
    "            return value * self.worryfactor\n",
    "        elif self.operation == '+':\n",
    "            return value + self.worryfactor\n",
    "        else: # if multiple by self\n",
    "            return value**2\n",
    "        \n",
    "        return value\n",
    "        \n",
    "    def turn(self):\n",
    "        while len(self.inventory) > 0: # iteratre through entire inventory\n",
    "            item = self.inventory[0]\n",
    "            self.inventory = self.inventory[1:] # remove from inventory\n",
    "            item = self.inspect(item) # change value\n",
    "            item = math.floor(item/3) # divide by three and round down\n",
    "            if item%self.factor == 0:\n",
    "                monkeys[self.truecase].inventory.append(item)\n",
    "                #print(f\"True case, pass {item} from {self.id} to {self.truecase}\")\n",
    "            else:\n",
    "                monkeys[self.falsecase].inventory.append(item)\n",
    "                #print(f\"False case, pass {item} from {self.id} to {self.falsecase}\")\n",
    "            self.activitycount += 1\n",
    "            \n",
    "    ######## Operations next\n",
    "\n",
    "with open(\"data/data_1112.txt\") as f:\n",
    "    txt = f.read().split('\\n')\n",
    "    \n",
    "\n",
    "# create monkeys\n",
    "monkeys = [Monkey(i) for i in range(8)]\n",
    "\n",
    "for i, line in enumerate(txt[1::7]):\n",
    "    for val in line.split(':')[1].split(','):\n",
    "        monkeys[i].inventory.append(int(val))\n",
    "for i, line in enumerate(txt[2::7]): # get inspection function\n",
    "    try:\n",
    "        monkeys[i].worryfactor = int(line.split()[-1])\n",
    "        monkeys[i].operation = line.split()[-2]\n",
    "    except ValueError:\n",
    "        monkeys[i].operation = None\n",
    "for i, line in enumerate(txt[3::7]):\n",
    "    monkeys[i].factor = int(line.split()[-1])\n",
    "for i, line in enumerate(txt[4::7]):\n",
    "    monkeys[i].truecase = int(line.split()[-1])\n",
    "for i, line in enumerate(txt[5::7]):\n",
    "    monkeys[i].falsecase = int(line.split()[-1])\n",
    "    \n",
    "# iterate through rounds\n",
    "for r in range(num_rounds):\n",
    "    for i in range(len(monkeys)):\n",
    "        monkeys[i].turn()\n",
    "                \n",
    "activities = sorted([monkeys[i].activitycount for i in range(len(monkeys))])\n",
    "print(activities[-1] * activities[-2])"
   ]
  },
  {
   "cell_type": "code",
   "execution_count": null,
   "id": "8d417479",
   "metadata": {},
   "outputs": [],
   "source": [
    "## PART TWO\n",
    "\n",
    "# LCM\n",
    "# Modular arithmetic"
   ]
  },
  {
   "cell_type": "markdown",
   "id": "dde888c3",
   "metadata": {},
   "source": [
    "## Day 12"
   ]
  },
  {
   "cell_type": "code",
   "execution_count": 418,
   "id": "3eaeb358",
   "metadata": {},
   "outputs": [
    {
     "name": "stdout",
     "output_type": "stream",
     "text": [
      "350\n",
      "349\n"
     ]
    }
   ],
   "source": [
    "## PART ONE\n",
    "\n",
    "def isValid(start,end):\n",
    "    global N\n",
    "    global M\n",
    "    global grid\n",
    "    global visited\n",
    "    \n",
    "    if end[0] < 0 or end[1] < 0: # out of bounds\n",
    "        return False\n",
    "    if end[0] >= M or end[1] >= N: # out of bounds\n",
    "        return False\n",
    "    if visited[end[0],end[1]] == 1: # seen before\n",
    "        return False\n",
    "    if grid[end[0], end[1]] + 1 < grid[start[0], start[1]]: # taller than 1 height above\n",
    "        return False\n",
    "    return True\n",
    "\n",
    "grid = []\n",
    "with open(\"data/data_1212.txt\") as f:\n",
    "    for i, line in enumerate(f.readlines()):\n",
    "        row = []\n",
    "        for j, char in enumerate(line.strip()):\n",
    "            if char == 'S': #start position has elevation 1\n",
    "                row.append(1)\n",
    "                start = (i,j)\n",
    "            elif char =='E':\n",
    "                row.append(26)\n",
    "                goal = (i,j)\n",
    "            else:    \n",
    "                row.append(ord(char)-96)\n",
    "        grid.append(row)\n",
    "\n",
    "        \n",
    "grid = np.array(grid)\n",
    "M,N = grid.shape\n",
    "visited = np.zeros((M,N))\n",
    "\n",
    "\n",
    "graph = {}\n",
    "for x in range(grid.shape[0]):\n",
    "    for y in range(grid.shape[1]):\n",
    "        graph[(x,y)] = []\n",
    "        for nx, ny in [(x-1, y), (x+1, y), (x, y-1), (x, y+1)]:\n",
    "            if isValid((x,y), (nx,ny)):\n",
    "                graph[(x,y)].append((nx,ny))\n",
    "                \n",
    "unseen = list(graph.keys())\n",
    "\n",
    "shortest_path = {}\n",
    "previous_nodes = {}\n",
    "# We'll use max_value to initialize the \"infinity\" value of the unvisited nodes   \n",
    "max_value = sys.maxsize\n",
    "for node in unseen:\n",
    "    shortest_path[node] = max_value\n",
    "# However, we initialize the starting node's value with 0   \n",
    "shortest_path[goal] = 0\n",
    "\n",
    "# The algorithm executes until we visit all nodes\n",
    "while unseen:\n",
    "    # The code block below finds the node with the lowest score\n",
    "    current_min_node = None\n",
    "    for node in unseen: # Iterate over the nodes\n",
    "        if current_min_node == None:\n",
    "            current_min_node = node\n",
    "        elif shortest_path[node] < shortest_path[current_min_node]:\n",
    "            current_min_node = node\n",
    "\n",
    "    # The code block below retrieves the current node's neighbors and updates their distances\n",
    "    neighbors = graph[current_min_node]\n",
    "    for neighbor in neighbors:\n",
    "        tentative_value = shortest_path[current_min_node] + 1\n",
    "        if tentative_value < shortest_path[neighbor]:\n",
    "            shortest_path[neighbor] = tentative_value\n",
    "            # We also update the best path to the current node\n",
    "            previous_nodes[neighbor] = current_min_node\n",
    "\n",
    "    # After visiting its neighbors, we mark the node as \"visited\"\n",
    "    unseen.remove(current_min_node)\n",
    "    \n",
    "print(shortest_path[start])\n",
    "\n",
    "# PART TWO\n",
    "candidates =  []\n",
    "for i in np.transpose((grid == 1).nonzero()):\n",
    "    candidates.append((i[0], i[1]))\n",
    "    \n",
    "shortest = shortest_path[start]\n",
    "print(min([shortest_path[cand] for cand in candidates]))"
   ]
  },
  {
   "cell_type": "markdown",
   "id": "26464a38",
   "metadata": {},
   "source": [
    "## Day 13"
   ]
  },
  {
   "cell_type": "code",
   "execution_count": 481,
   "id": "dd6fcd0d",
   "metadata": {},
   "outputs": [
    {
     "name": "stdout",
     "output_type": "stream",
     "text": [
      "5588\n",
      "23958\n"
     ]
    }
   ],
   "source": [
    "## PART ONE\n",
    "\n",
    "def in_order(l,r): # returns two values, one if it is \"Done\", one if it is valid or not\n",
    "    j = 0\n",
    "    while True:\n",
    "        try:\n",
    "            if (type(l[j]) == int):\n",
    "                if (type(r[j]) == int): # if both integers\n",
    "                    if r[j] > l[j]:\n",
    "                        #print(f\"{r[j]} > {l[j]}\")\n",
    "                        return True, True\n",
    "                    elif l[j] > r[j]:\n",
    "                        #print(f\"{r[j]} < {l[j]}\")\n",
    "                        return False, True\n",
    "                    else: #equal integers\n",
    "                        #print(f\"{r[j]} = {l[j]}\")\n",
    "                        j += 1 # move to next index\n",
    "                else:\n",
    "                    return in_order([l[j]], r[j])\n",
    "            elif (type(l[j]) == list):\n",
    "                if (type(r[j]) == list): # both lists\n",
    "                    if in_order(l[j], r[j])[1] == True: # Done\n",
    "                        return in_order(l[j], r[j])[0], True\n",
    "                    else:\n",
    "                        j += 1 # move to next one\n",
    "                        \n",
    "                else: # right is an integer\n",
    "                    if in_order(l[j],[r[j]])[1] == True: # Done\n",
    "                        return in_order(l[j],[r[j]])[0], True\n",
    "                    else:\n",
    "                        j += 1 #iterate to next\n",
    "            else: # one is a list the other is not\n",
    "                print(f\"Unexpected input: {l[j], r[j]}\")\n",
    "        except IndexError:\n",
    "            if len(l) == len(r):\n",
    "                return _, False\n",
    "            elif len(l) < len(r):\n",
    "                #print(\"Right longer\")\n",
    "                return True, True\n",
    "            else:\n",
    "                #print(\"Left longer\")\n",
    "                return False, True\n",
    "    \n",
    "\n",
    "with open(\"data/data_1312.txt\") as f:\n",
    "    txt = f.read().split('\\n')\n",
    "    \n",
    "pairs = list(zip(txt[::3], txt[1::3]))\n",
    "valid = []\n",
    "\n",
    "for i, pair in enumerate(pairs):\n",
    "    left = ast.literal_eval(pair[0])\n",
    "    right = ast.literal_eval(pair[1])\n",
    "    if in_order(left, right)[0]:\n",
    "        valid.append(i+1)\n",
    "        #print(\"VALID\")        \n",
    "print(sum(valid))\n",
    "\n",
    "class Packet:\n",
    "    def __init__(self, message):\n",
    "        self.message = message\n",
    "    def __eq__(self, other):\n",
    "        return self.message == other.message\n",
    "    def __lt__(self, other):\n",
    "        return in_order(self.message, other.message)[0]\n",
    "\n",
    "values = [Packet(ast.literal_eval(lst)) for lst in txt[::3] + txt[1::3]]\n",
    "divider_packet_one = Packet([[2]])\n",
    "divider_packet_two = Packet([[6]])\n",
    "\n",
    "values = values + [divider_packet_one, divider_packet_two]\n",
    "values = sorted(values)\n",
    "\n",
    "print((values.index(divider_packet_one) +1)* (values.index(divider_packet_two) +1))"
   ]
  },
  {
   "cell_type": "markdown",
   "id": "c653eddf",
   "metadata": {},
   "source": [
    "## Day 14"
   ]
  },
  {
   "cell_type": "code",
   "execution_count": null,
   "id": "4d24ab57",
   "metadata": {},
   "outputs": [],
   "source": []
  }
 ],
 "metadata": {
  "kernelspec": {
   "display_name": "Python 3 (ipykernel)",
   "language": "python",
   "name": "python3"
  },
  "language_info": {
   "codemirror_mode": {
    "name": "ipython",
    "version": 3
   },
   "file_extension": ".py",
   "mimetype": "text/x-python",
   "name": "python",
   "nbconvert_exporter": "python",
   "pygments_lexer": "ipython3",
   "version": "3.9.12"
  }
 },
 "nbformat": 4,
 "nbformat_minor": 5
}
